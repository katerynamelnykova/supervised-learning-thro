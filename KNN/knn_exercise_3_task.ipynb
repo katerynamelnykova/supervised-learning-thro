{
 "cells": [
  {
   "cell_type": "markdown",
   "metadata": {},
   "source": [
    "# Exercise 3: Using kNN for classification of Wheat Seeds"
   ]
  },
  {
   "cell_type": "markdown",
   "metadata": {},
   "source": [
    "# Task 1: Get the data and load it to an appropriate data structure\n",
    "\n",
    "The dataset can be downloaded from: https://archive.ics.uci.edu/dataset/236/seedsimport\n",
    "\n",
    "This can be done by, e.g. using curl: curl -o seeds.zip https://archive.ics.uci.edu/static/public/236/seeds.zip\n",
    "\n",
    "In a next step, load the data to a pandas Dataframe. If you encounter any issues think about how you could solve them.\n",
    "You can load the data using pandas directly using `pd.read_csv(..., sep='\\t')` as the file is tab separted. \n",
    "Or you can loop over an open file handle and append the data to a list which you can then convert to a pandas DataFrame.\n",
    "```python\n",
    "data = []\n",
    "with open('seeds_dataset.txt') as f:\n",
    "pass\n",
    "```"
   ]
  },
  {
   "cell_type": "code",
   "execution_count": 70,
   "metadata": {},
   "outputs": [],
   "source": [
    "import pandas as pd\n",
    "import numpy as np\n",
    "import matplotlib.pyplot as plt"
   ]
  },
  {
   "cell_type": "code",
   "execution_count": 71,
   "metadata": {},
   "outputs": [
    {
     "name": "stdout",
     "output_type": "stream",
     "text": [
      "         A      P  compactness  length of kernel  width of kernel   \n",
      "0    15.26  14.84       0.8710             5.763            3.312  \\\n",
      "1    14.88  14.57       0.8811             5.554            3.333   \n",
      "2    14.29  14.09       0.9050             5.291            3.337   \n",
      "3    13.84  13.94       0.8955             5.324            3.379   \n",
      "4    16.14  14.99       0.9034             5.658            3.562   \n",
      "..     ...    ...          ...               ...              ...   \n",
      "205  12.19  13.20       0.8783             5.137            2.981   \n",
      "206  11.23  12.88       0.8511             5.140            2.795   \n",
      "207  13.20  13.66       0.8883             5.236            3.232   \n",
      "208  11.84  13.21       0.8521             5.175            2.836   \n",
      "209  12.30  13.34       0.8684             5.243            2.974   \n",
      "\n",
      "     asymmetry coeff  length of kernel groove  varieties  \n",
      "0              2.221                    5.220          1  \n",
      "1              1.018                    4.956          1  \n",
      "2              2.699                    4.825          1  \n",
      "3              2.259                    4.805          1  \n",
      "4              1.355                    5.175          1  \n",
      "..               ...                      ...        ...  \n",
      "205            3.631                    4.870          3  \n",
      "206            4.325                    5.003          3  \n",
      "207            8.315                    5.056          3  \n",
      "208            3.598                    5.044          3  \n",
      "209            5.637                    5.063          3  \n",
      "\n",
      "[210 rows x 8 columns]\n"
     ]
    }
   ],
   "source": [
    "data = []\n",
    "df = pd.read_csv('seeds_dataset.txt', sep='\\s+', names=[\"A\", \"P\", \"compactness\", \"length of kernel\",\n",
    "                                                        \"width of kernel\", \"asymmetry coeff\", \n",
    "                                                        \"length of kernel groove\", \"varieties\"])\n",
    "print(df)"
   ]
  },
  {
   "cell_type": "markdown",
   "metadata": {},
   "source": [
    "## Task 1.1: Rename the columns to something more descriptive (see the dataset description for that)"
   ]
  },
  {
   "cell_type": "code",
   "execution_count": 72,
   "metadata": {},
   "outputs": [
    {
     "data": {
      "text/html": [
       "<div>\n",
       "<style scoped>\n",
       "    .dataframe tbody tr th:only-of-type {\n",
       "        vertical-align: middle;\n",
       "    }\n",
       "\n",
       "    .dataframe tbody tr th {\n",
       "        vertical-align: top;\n",
       "    }\n",
       "\n",
       "    .dataframe thead th {\n",
       "        text-align: right;\n",
       "    }\n",
       "</style>\n",
       "<table border=\"1\" class=\"dataframe\">\n",
       "  <thead>\n",
       "    <tr style=\"text-align: right;\">\n",
       "      <th></th>\n",
       "      <th>A</th>\n",
       "      <th>P</th>\n",
       "      <th>compactness</th>\n",
       "      <th>length of kernel</th>\n",
       "      <th>width of kernel</th>\n",
       "      <th>asymmetry coeff</th>\n",
       "      <th>length of kernel groove</th>\n",
       "      <th>varieties</th>\n",
       "    </tr>\n",
       "  </thead>\n",
       "  <tbody>\n",
       "    <tr>\n",
       "      <th>0</th>\n",
       "      <td>15.26</td>\n",
       "      <td>14.84</td>\n",
       "      <td>0.8710</td>\n",
       "      <td>5.763</td>\n",
       "      <td>3.312</td>\n",
       "      <td>2.221</td>\n",
       "      <td>5.220</td>\n",
       "      <td>1</td>\n",
       "    </tr>\n",
       "    <tr>\n",
       "      <th>1</th>\n",
       "      <td>14.88</td>\n",
       "      <td>14.57</td>\n",
       "      <td>0.8811</td>\n",
       "      <td>5.554</td>\n",
       "      <td>3.333</td>\n",
       "      <td>1.018</td>\n",
       "      <td>4.956</td>\n",
       "      <td>1</td>\n",
       "    </tr>\n",
       "    <tr>\n",
       "      <th>2</th>\n",
       "      <td>14.29</td>\n",
       "      <td>14.09</td>\n",
       "      <td>0.9050</td>\n",
       "      <td>5.291</td>\n",
       "      <td>3.337</td>\n",
       "      <td>2.699</td>\n",
       "      <td>4.825</td>\n",
       "      <td>1</td>\n",
       "    </tr>\n",
       "    <tr>\n",
       "      <th>3</th>\n",
       "      <td>13.84</td>\n",
       "      <td>13.94</td>\n",
       "      <td>0.8955</td>\n",
       "      <td>5.324</td>\n",
       "      <td>3.379</td>\n",
       "      <td>2.259</td>\n",
       "      <td>4.805</td>\n",
       "      <td>1</td>\n",
       "    </tr>\n",
       "    <tr>\n",
       "      <th>4</th>\n",
       "      <td>16.14</td>\n",
       "      <td>14.99</td>\n",
       "      <td>0.9034</td>\n",
       "      <td>5.658</td>\n",
       "      <td>3.562</td>\n",
       "      <td>1.355</td>\n",
       "      <td>5.175</td>\n",
       "      <td>1</td>\n",
       "    </tr>\n",
       "  </tbody>\n",
       "</table>\n",
       "</div>"
      ],
      "text/plain": [
       "       A      P  compactness  length of kernel  width of kernel   \n",
       "0  15.26  14.84       0.8710             5.763            3.312  \\\n",
       "1  14.88  14.57       0.8811             5.554            3.333   \n",
       "2  14.29  14.09       0.9050             5.291            3.337   \n",
       "3  13.84  13.94       0.8955             5.324            3.379   \n",
       "4  16.14  14.99       0.9034             5.658            3.562   \n",
       "\n",
       "   asymmetry coeff  length of kernel groove  varieties  \n",
       "0            2.221                    5.220          1  \n",
       "1            1.018                    4.956          1  \n",
       "2            2.699                    4.825          1  \n",
       "3            2.259                    4.805          1  \n",
       "4            1.355                    5.175          1  "
      ]
     },
     "execution_count": 72,
     "metadata": {},
     "output_type": "execute_result"
    }
   ],
   "source": [
    "df.head()\n"
   ]
  },
  {
   "cell_type": "code",
   "execution_count": 73,
   "metadata": {},
   "outputs": [
    {
     "data": {
      "text/html": [
       "<div>\n",
       "<style scoped>\n",
       "    .dataframe tbody tr th:only-of-type {\n",
       "        vertical-align: middle;\n",
       "    }\n",
       "\n",
       "    .dataframe tbody tr th {\n",
       "        vertical-align: top;\n",
       "    }\n",
       "\n",
       "    .dataframe thead th {\n",
       "        text-align: right;\n",
       "    }\n",
       "</style>\n",
       "<table border=\"1\" class=\"dataframe\">\n",
       "  <thead>\n",
       "    <tr style=\"text-align: right;\">\n",
       "      <th></th>\n",
       "      <th>A</th>\n",
       "      <th>P</th>\n",
       "      <th>compactness</th>\n",
       "      <th>length of kernel</th>\n",
       "      <th>width of kernel</th>\n",
       "      <th>asymmetry coeff</th>\n",
       "      <th>length of kernel groove</th>\n",
       "      <th>varieties</th>\n",
       "    </tr>\n",
       "  </thead>\n",
       "  <tbody>\n",
       "    <tr>\n",
       "      <th>count</th>\n",
       "      <td>210.000000</td>\n",
       "      <td>210.000000</td>\n",
       "      <td>210.000000</td>\n",
       "      <td>210.000000</td>\n",
       "      <td>210.000000</td>\n",
       "      <td>210.000000</td>\n",
       "      <td>210.000000</td>\n",
       "      <td>210.000000</td>\n",
       "    </tr>\n",
       "    <tr>\n",
       "      <th>mean</th>\n",
       "      <td>14.847524</td>\n",
       "      <td>14.559286</td>\n",
       "      <td>0.870999</td>\n",
       "      <td>5.628533</td>\n",
       "      <td>3.258605</td>\n",
       "      <td>3.700201</td>\n",
       "      <td>5.408071</td>\n",
       "      <td>2.000000</td>\n",
       "    </tr>\n",
       "    <tr>\n",
       "      <th>std</th>\n",
       "      <td>2.909699</td>\n",
       "      <td>1.305959</td>\n",
       "      <td>0.023629</td>\n",
       "      <td>0.443063</td>\n",
       "      <td>0.377714</td>\n",
       "      <td>1.503557</td>\n",
       "      <td>0.491480</td>\n",
       "      <td>0.818448</td>\n",
       "    </tr>\n",
       "    <tr>\n",
       "      <th>min</th>\n",
       "      <td>10.590000</td>\n",
       "      <td>12.410000</td>\n",
       "      <td>0.808100</td>\n",
       "      <td>4.899000</td>\n",
       "      <td>2.630000</td>\n",
       "      <td>0.765100</td>\n",
       "      <td>4.519000</td>\n",
       "      <td>1.000000</td>\n",
       "    </tr>\n",
       "    <tr>\n",
       "      <th>25%</th>\n",
       "      <td>12.270000</td>\n",
       "      <td>13.450000</td>\n",
       "      <td>0.856900</td>\n",
       "      <td>5.262250</td>\n",
       "      <td>2.944000</td>\n",
       "      <td>2.561500</td>\n",
       "      <td>5.045000</td>\n",
       "      <td>1.000000</td>\n",
       "    </tr>\n",
       "    <tr>\n",
       "      <th>50%</th>\n",
       "      <td>14.355000</td>\n",
       "      <td>14.320000</td>\n",
       "      <td>0.873450</td>\n",
       "      <td>5.523500</td>\n",
       "      <td>3.237000</td>\n",
       "      <td>3.599000</td>\n",
       "      <td>5.223000</td>\n",
       "      <td>2.000000</td>\n",
       "    </tr>\n",
       "    <tr>\n",
       "      <th>75%</th>\n",
       "      <td>17.305000</td>\n",
       "      <td>15.715000</td>\n",
       "      <td>0.887775</td>\n",
       "      <td>5.979750</td>\n",
       "      <td>3.561750</td>\n",
       "      <td>4.768750</td>\n",
       "      <td>5.877000</td>\n",
       "      <td>3.000000</td>\n",
       "    </tr>\n",
       "    <tr>\n",
       "      <th>max</th>\n",
       "      <td>21.180000</td>\n",
       "      <td>17.250000</td>\n",
       "      <td>0.918300</td>\n",
       "      <td>6.675000</td>\n",
       "      <td>4.033000</td>\n",
       "      <td>8.456000</td>\n",
       "      <td>6.550000</td>\n",
       "      <td>3.000000</td>\n",
       "    </tr>\n",
       "  </tbody>\n",
       "</table>\n",
       "</div>"
      ],
      "text/plain": [
       "                A           P  compactness  length of kernel  width of kernel   \n",
       "count  210.000000  210.000000   210.000000        210.000000       210.000000  \\\n",
       "mean    14.847524   14.559286     0.870999          5.628533         3.258605   \n",
       "std      2.909699    1.305959     0.023629          0.443063         0.377714   \n",
       "min     10.590000   12.410000     0.808100          4.899000         2.630000   \n",
       "25%     12.270000   13.450000     0.856900          5.262250         2.944000   \n",
       "50%     14.355000   14.320000     0.873450          5.523500         3.237000   \n",
       "75%     17.305000   15.715000     0.887775          5.979750         3.561750   \n",
       "max     21.180000   17.250000     0.918300          6.675000         4.033000   \n",
       "\n",
       "       asymmetry coeff  length of kernel groove   varieties  \n",
       "count       210.000000               210.000000  210.000000  \n",
       "mean          3.700201                 5.408071    2.000000  \n",
       "std           1.503557                 0.491480    0.818448  \n",
       "min           0.765100                 4.519000    1.000000  \n",
       "25%           2.561500                 5.045000    1.000000  \n",
       "50%           3.599000                 5.223000    2.000000  \n",
       "75%           4.768750                 5.877000    3.000000  \n",
       "max           8.456000                 6.550000    3.000000  "
      ]
     },
     "execution_count": 73,
     "metadata": {},
     "output_type": "execute_result"
    }
   ],
   "source": [
    "df.describe()"
   ]
  },
  {
   "cell_type": "markdown",
   "metadata": {},
   "source": [
    "# Task 1.2: Look at the data and get a feeling for it\n",
    "Use\n",
    "```python\n",
    "df.head()\n",
    "df.describe()\n",
    "```\n",
    "or plot some histograms of the dataset to get a feeling for the data."
   ]
  },
  {
   "cell_type": "markdown",
   "metadata": {},
   "source": [
    "# Task 2: Implement the kNN algorithm using sklearn\n",
    "Split the data into a training and a test set. Use the kNN algorithm from sklearn to classify the data.\n",
    "Use accuracy (the fraction of correctly classified instances) as a metric to evaluate the performance of the algorithm.\n",
    "Use 20% of the data as test set and the rest as training set.\n",
    "Example of how to split the data:\n",
    "```python\n",
    "import numpy as np\n",
    "from sklearn.model_selection import train_test_split\n",
    "X, y = np.arange(10).reshape((5, 2)), range(5)\n",
    "X_train, X_test, y_train, y_test = train_test_split(\n",
    "    X, y, test_size=0.33, random_state=42)\n",
    "```\n",
    "More details can be found here: https://scikit-learn.org/stable/modules/generated/sklearn.model_selection.train_test_split.html\n"
   ]
  },
  {
   "cell_type": "markdown",
   "metadata": {},
   "source": [
    "# Task 2.1 Split the data\n",
    "Use 20\\% of the data as test set and the rest as training set.\n",
    "Question to ask yourself: \n",
    "- Why do we need to split the data?\n",
    "- What is the randdom state?"
   ]
  },
  {
   "cell_type": "code",
   "execution_count": 74,
   "metadata": {},
   "outputs": [],
   "source": [
    "from sklearn.model_selection import train_test_split\n",
    "\n",
    "X, y = df.drop('varieties', axis=1), df['varieties']\n",
    "x_train, x_test, y_train, y_test = train_test_split(X, y, test_size=0.2, random_state=42)\n"
   ]
  },
  {
   "cell_type": "markdown",
   "metadata": {},
   "source": [
    "# Task 2.2. Implement the kNN algorithm and predict the test set samples with the trained model. \n",
    "```python\n",
    "from sklearn.neighbors import KNeighborsClassifier\n",
    "neigh = KNeighborsClassifier(n_neighbors=3)\n",
    "```\n",
    "Use the fit and predict functions of the model to train and predict the data."
   ]
  },
  {
   "cell_type": "code",
   "execution_count": 75,
   "metadata": {},
   "outputs": [],
   "source": [
    "from sklearn.neighbors import KNeighborsClassifier\n",
    "\n",
    "knn = KNeighborsClassifier(n_neighbors=3)\n",
    "knn.fit(x_train, y_train)\n",
    "y_predicted = knn.predict(x_test)\n"
   ]
  },
  {
   "cell_type": "markdown",
   "metadata": {},
   "source": [
    "# Task 2.3 Check the accuracy of the model using your own implementation of the accuracy function (fraction of correctly classified examples). \n",
    "Now compare the accuracy of the model with different values of k.  (e.g. 1, 3, 5, 7, 9, 11, 13, 15, 17, 19, 21). You can use a loop for that."
   ]
  },
  {
   "cell_type": "code",
   "execution_count": 76,
   "metadata": {},
   "outputs": [],
   "source": [
    "def accuracy(y_true, y_pred):\n",
    "    correct = 0\n",
    "    num_of_samples = len(y_true)\n",
    "\n",
    "    if num_of_samples != len(y_pred):\n",
    "        raise ValueError(\"Incompatible lengths of the input arrays\")\n",
    "    \n",
    "    for i in range(num_of_samples):\n",
    "        if y_true.iloc[i] == y_pred[i]:\n",
    "            correct += 1\n",
    "    return correct / num_of_samples\n"
   ]
  },
  {
   "cell_type": "code",
   "execution_count": 77,
   "metadata": {},
   "outputs": [
    {
     "name": "stdout",
     "output_type": "stream",
     "text": [
      "0.8809523809523809\n",
      "0.8809523809523809\n"
     ]
    }
   ],
   "source": [
    "from sklearn.metrics import accuracy_score\n",
    "\n",
    "print(accuracy(y_test, y_predicted))\n",
    "print(accuracy_score(y_test, y_predicted))\n"
   ]
  }
 ],
 "metadata": {
  "kernelspec": {
   "display_name": "Python 3",
   "language": "python",
   "name": "python3"
  },
  "language_info": {
   "codemirror_mode": {
    "name": "ipython",
    "version": 3
   },
   "file_extension": ".py",
   "mimetype": "text/x-python",
   "name": "python",
   "nbconvert_exporter": "python",
   "pygments_lexer": "ipython3",
   "version": "3.9.6"
  }
 },
 "nbformat": 4,
 "nbformat_minor": 2
}
